{
  "nbformat": 4,
  "nbformat_minor": 0,
  "metadata": {
    "colab": {
      "provenance": []
    },
    "kernelspec": {
      "name": "python3",
      "display_name": "Python 3"
    },
    "language_info": {
      "name": "python"
    }
  },
  "cells": [
    {
      "cell_type": "markdown",
      "source": [
        "#Prevendo a postura usando traços de personalidade"
      ],
      "metadata": {
        "id": "99i1UE5plW89"
      }
    },
    {
      "cell_type": "code",
      "source": [
        "import numpy as np \n",
        "import pandas as pd \n",
        "import matplotlib.pyplot as plt\n",
        "import seaborn as sns"
      ],
      "metadata": {
        "id": "Ic10FKbbldBL"
      },
      "execution_count": 1,
      "outputs": []
    },
    {
      "cell_type": "code",
      "source": [
        "df = pd.read_csv('/content/Myers Briggs Table_S1.csv', delimiter=',')"
      ],
      "metadata": {
        "id": "YQIwfqMclto7"
      },
      "execution_count": 2,
      "outputs": []
    },
    {
      "cell_type": "code",
      "source": [
        "df.head()"
      ],
      "metadata": {
        "colab": {
          "base_uri": "https://localhost:8080/",
          "height": 206
        },
        "id": "bQvAfL8ul0Ow",
        "outputId": "41d5b083-468b-4606-f417-18a95a5efdd8"
      },
      "execution_count": 3,
      "outputs": [
        {
          "output_type": "execute_result",
          "data": {
            "text/plain": [
              "   S No  AGE  HEIGHT  WEIGHT     SEX ACTIVITY LEVEL  PAIN 1  PAIN 2  PAIN 3  \\\n",
              "0     1   53      62     125  Female            Low     0.0     0.0     0.0   \n",
              "1     2   52      69     157    Male           High     7.0     8.0     5.0   \n",
              "2     3   30      69     200    Male           High     0.0     0.0     0.0   \n",
              "3     4   51      66     175    Male       Moderate     9.5     9.5     9.5   \n",
              "4     5   45      63     199  Female       Moderate     4.0     5.0     2.0   \n",
              "\n",
              "   PAIN 4  MBTI   E   I   S   N   T   F   J   P POSTURE  \n",
              "0     0.0  ESFJ  18   3  17   9   9  13  18   4       A  \n",
              "1     3.0  ISTJ   6  15  14  12  21   3  13   9       B  \n",
              "2     0.0  ESTJ  15   6  16  10  15   9  12  10       A  \n",
              "3     1.5  ISTJ   6  15  21   5  13  11  19   3       D  \n",
              "4     2.0  ENFJ  14   7  20   6   9  15  16   6       A  "
            ],
            "text/html": [
              "\n",
              "  <div id=\"df-0aa77f2a-a9a9-427e-8897-c7373d761ea4\">\n",
              "    <div class=\"colab-df-container\">\n",
              "      <div>\n",
              "<style scoped>\n",
              "    .dataframe tbody tr th:only-of-type {\n",
              "        vertical-align: middle;\n",
              "    }\n",
              "\n",
              "    .dataframe tbody tr th {\n",
              "        vertical-align: top;\n",
              "    }\n",
              "\n",
              "    .dataframe thead th {\n",
              "        text-align: right;\n",
              "    }\n",
              "</style>\n",
              "<table border=\"1\" class=\"dataframe\">\n",
              "  <thead>\n",
              "    <tr style=\"text-align: right;\">\n",
              "      <th></th>\n",
              "      <th>S No</th>\n",
              "      <th>AGE</th>\n",
              "      <th>HEIGHT</th>\n",
              "      <th>WEIGHT</th>\n",
              "      <th>SEX</th>\n",
              "      <th>ACTIVITY LEVEL</th>\n",
              "      <th>PAIN 1</th>\n",
              "      <th>PAIN 2</th>\n",
              "      <th>PAIN 3</th>\n",
              "      <th>PAIN 4</th>\n",
              "      <th>MBTI</th>\n",
              "      <th>E</th>\n",
              "      <th>I</th>\n",
              "      <th>S</th>\n",
              "      <th>N</th>\n",
              "      <th>T</th>\n",
              "      <th>F</th>\n",
              "      <th>J</th>\n",
              "      <th>P</th>\n",
              "      <th>POSTURE</th>\n",
              "    </tr>\n",
              "  </thead>\n",
              "  <tbody>\n",
              "    <tr>\n",
              "      <th>0</th>\n",
              "      <td>1</td>\n",
              "      <td>53</td>\n",
              "      <td>62</td>\n",
              "      <td>125</td>\n",
              "      <td>Female</td>\n",
              "      <td>Low</td>\n",
              "      <td>0.0</td>\n",
              "      <td>0.0</td>\n",
              "      <td>0.0</td>\n",
              "      <td>0.0</td>\n",
              "      <td>ESFJ</td>\n",
              "      <td>18</td>\n",
              "      <td>3</td>\n",
              "      <td>17</td>\n",
              "      <td>9</td>\n",
              "      <td>9</td>\n",
              "      <td>13</td>\n",
              "      <td>18</td>\n",
              "      <td>4</td>\n",
              "      <td>A</td>\n",
              "    </tr>\n",
              "    <tr>\n",
              "      <th>1</th>\n",
              "      <td>2</td>\n",
              "      <td>52</td>\n",
              "      <td>69</td>\n",
              "      <td>157</td>\n",
              "      <td>Male</td>\n",
              "      <td>High</td>\n",
              "      <td>7.0</td>\n",
              "      <td>8.0</td>\n",
              "      <td>5.0</td>\n",
              "      <td>3.0</td>\n",
              "      <td>ISTJ</td>\n",
              "      <td>6</td>\n",
              "      <td>15</td>\n",
              "      <td>14</td>\n",
              "      <td>12</td>\n",
              "      <td>21</td>\n",
              "      <td>3</td>\n",
              "      <td>13</td>\n",
              "      <td>9</td>\n",
              "      <td>B</td>\n",
              "    </tr>\n",
              "    <tr>\n",
              "      <th>2</th>\n",
              "      <td>3</td>\n",
              "      <td>30</td>\n",
              "      <td>69</td>\n",
              "      <td>200</td>\n",
              "      <td>Male</td>\n",
              "      <td>High</td>\n",
              "      <td>0.0</td>\n",
              "      <td>0.0</td>\n",
              "      <td>0.0</td>\n",
              "      <td>0.0</td>\n",
              "      <td>ESTJ</td>\n",
              "      <td>15</td>\n",
              "      <td>6</td>\n",
              "      <td>16</td>\n",
              "      <td>10</td>\n",
              "      <td>15</td>\n",
              "      <td>9</td>\n",
              "      <td>12</td>\n",
              "      <td>10</td>\n",
              "      <td>A</td>\n",
              "    </tr>\n",
              "    <tr>\n",
              "      <th>3</th>\n",
              "      <td>4</td>\n",
              "      <td>51</td>\n",
              "      <td>66</td>\n",
              "      <td>175</td>\n",
              "      <td>Male</td>\n",
              "      <td>Moderate</td>\n",
              "      <td>9.5</td>\n",
              "      <td>9.5</td>\n",
              "      <td>9.5</td>\n",
              "      <td>1.5</td>\n",
              "      <td>ISTJ</td>\n",
              "      <td>6</td>\n",
              "      <td>15</td>\n",
              "      <td>21</td>\n",
              "      <td>5</td>\n",
              "      <td>13</td>\n",
              "      <td>11</td>\n",
              "      <td>19</td>\n",
              "      <td>3</td>\n",
              "      <td>D</td>\n",
              "    </tr>\n",
              "    <tr>\n",
              "      <th>4</th>\n",
              "      <td>5</td>\n",
              "      <td>45</td>\n",
              "      <td>63</td>\n",
              "      <td>199</td>\n",
              "      <td>Female</td>\n",
              "      <td>Moderate</td>\n",
              "      <td>4.0</td>\n",
              "      <td>5.0</td>\n",
              "      <td>2.0</td>\n",
              "      <td>2.0</td>\n",
              "      <td>ENFJ</td>\n",
              "      <td>14</td>\n",
              "      <td>7</td>\n",
              "      <td>20</td>\n",
              "      <td>6</td>\n",
              "      <td>9</td>\n",
              "      <td>15</td>\n",
              "      <td>16</td>\n",
              "      <td>6</td>\n",
              "      <td>A</td>\n",
              "    </tr>\n",
              "  </tbody>\n",
              "</table>\n",
              "</div>\n",
              "      <button class=\"colab-df-convert\" onclick=\"convertToInteractive('df-0aa77f2a-a9a9-427e-8897-c7373d761ea4')\"\n",
              "              title=\"Convert this dataframe to an interactive table.\"\n",
              "              style=\"display:none;\">\n",
              "        \n",
              "  <svg xmlns=\"http://www.w3.org/2000/svg\" height=\"24px\"viewBox=\"0 0 24 24\"\n",
              "       width=\"24px\">\n",
              "    <path d=\"M0 0h24v24H0V0z\" fill=\"none\"/>\n",
              "    <path d=\"M18.56 5.44l.94 2.06.94-2.06 2.06-.94-2.06-.94-.94-2.06-.94 2.06-2.06.94zm-11 1L8.5 8.5l.94-2.06 2.06-.94-2.06-.94L8.5 2.5l-.94 2.06-2.06.94zm10 10l.94 2.06.94-2.06 2.06-.94-2.06-.94-.94-2.06-.94 2.06-2.06.94z\"/><path d=\"M17.41 7.96l-1.37-1.37c-.4-.4-.92-.59-1.43-.59-.52 0-1.04.2-1.43.59L10.3 9.45l-7.72 7.72c-.78.78-.78 2.05 0 2.83L4 21.41c.39.39.9.59 1.41.59.51 0 1.02-.2 1.41-.59l7.78-7.78 2.81-2.81c.8-.78.8-2.07 0-2.86zM5.41 20L4 18.59l7.72-7.72 1.47 1.35L5.41 20z\"/>\n",
              "  </svg>\n",
              "      </button>\n",
              "      \n",
              "  <style>\n",
              "    .colab-df-container {\n",
              "      display:flex;\n",
              "      flex-wrap:wrap;\n",
              "      gap: 12px;\n",
              "    }\n",
              "\n",
              "    .colab-df-convert {\n",
              "      background-color: #E8F0FE;\n",
              "      border: none;\n",
              "      border-radius: 50%;\n",
              "      cursor: pointer;\n",
              "      display: none;\n",
              "      fill: #1967D2;\n",
              "      height: 32px;\n",
              "      padding: 0 0 0 0;\n",
              "      width: 32px;\n",
              "    }\n",
              "\n",
              "    .colab-df-convert:hover {\n",
              "      background-color: #E2EBFA;\n",
              "      box-shadow: 0px 1px 2px rgba(60, 64, 67, 0.3), 0px 1px 3px 1px rgba(60, 64, 67, 0.15);\n",
              "      fill: #174EA6;\n",
              "    }\n",
              "\n",
              "    [theme=dark] .colab-df-convert {\n",
              "      background-color: #3B4455;\n",
              "      fill: #D2E3FC;\n",
              "    }\n",
              "\n",
              "    [theme=dark] .colab-df-convert:hover {\n",
              "      background-color: #434B5C;\n",
              "      box-shadow: 0px 1px 3px 1px rgba(0, 0, 0, 0.15);\n",
              "      filter: drop-shadow(0px 1px 2px rgba(0, 0, 0, 0.3));\n",
              "      fill: #FFFFFF;\n",
              "    }\n",
              "  </style>\n",
              "\n",
              "      <script>\n",
              "        const buttonEl =\n",
              "          document.querySelector('#df-0aa77f2a-a9a9-427e-8897-c7373d761ea4 button.colab-df-convert');\n",
              "        buttonEl.style.display =\n",
              "          google.colab.kernel.accessAllowed ? 'block' : 'none';\n",
              "\n",
              "        async function convertToInteractive(key) {\n",
              "          const element = document.querySelector('#df-0aa77f2a-a9a9-427e-8897-c7373d761ea4');\n",
              "          const dataTable =\n",
              "            await google.colab.kernel.invokeFunction('convertToInteractive',\n",
              "                                                     [key], {});\n",
              "          if (!dataTable) return;\n",
              "\n",
              "          const docLinkHtml = 'Like what you see? Visit the ' +\n",
              "            '<a target=\"_blank\" href=https://colab.research.google.com/notebooks/data_table.ipynb>data table notebook</a>'\n",
              "            + ' to learn more about interactive tables.';\n",
              "          element.innerHTML = '';\n",
              "          dataTable['output_type'] = 'display_data';\n",
              "          await google.colab.output.renderOutput(dataTable, element);\n",
              "          const docLink = document.createElement('div');\n",
              "          docLink.innerHTML = docLinkHtml;\n",
              "          element.appendChild(docLink);\n",
              "        }\n",
              "      </script>\n",
              "    </div>\n",
              "  </div>\n",
              "  "
            ]
          },
          "metadata": {},
          "execution_count": 3
        }
      ]
    },
    {
      "cell_type": "code",
      "source": [
        "df.shape"
      ],
      "metadata": {
        "colab": {
          "base_uri": "https://localhost:8080/"
        },
        "id": "tMWVXpJEl4UL",
        "outputId": "bd01f105-f1eb-4171-9492-3471b592a4e9"
      },
      "execution_count": 4,
      "outputs": [
        {
          "output_type": "execute_result",
          "data": {
            "text/plain": [
              "(97, 20)"
            ]
          },
          "metadata": {},
          "execution_count": 4
        }
      ]
    },
    {
      "cell_type": "code",
      "source": [
        "df.set_index(\"S No\", inplace = True)"
      ],
      "metadata": {
        "id": "V5_EFfdYl8G2"
      },
      "execution_count": 5,
      "outputs": []
    },
    {
      "cell_type": "code",
      "source": [
        "df.MBTI.value_counts().plot.bar()"
      ],
      "metadata": {
        "colab": {
          "base_uri": "https://localhost:8080/",
          "height": 298
        },
        "id": "jnS3gt88l8__",
        "outputId": "3b978aed-09a5-4dd2-b7f3-4966214cf755"
      },
      "execution_count": 6,
      "outputs": [
        {
          "output_type": "execute_result",
          "data": {
            "text/plain": [
              "<matplotlib.axes._subplots.AxesSubplot at 0x7f17f43edd30>"
            ]
          },
          "metadata": {},
          "execution_count": 6
        },
        {
          "output_type": "display_data",
          "data": {
            "text/plain": [
              "<Figure size 432x288 with 1 Axes>"
            ],
            "image/png": "[encoded data removed]"
          },
          "metadata": {
            "needs_background": "light"
          }
        }
      ]
    },
    {
      "cell_type": "code",
      "source": [
        "extroverts = df[df[\"E\"] > df[\"I\"]]\n",
        "introverts = df[df[\"I\"] >= df[\"E\"]]"
      ],
      "metadata": {
        "id": "F9Y00tNtmRRO"
      },
      "execution_count": 7,
      "outputs": []
    },
    {
      "cell_type": "code",
      "source": [
        "fig, ax =plt.subplots(1,2)\n",
        "sns.countplot( x = introverts['POSTURE'], ax=ax[0],  order = introverts['POSTURE'].value_counts().index)\n",
        "sns.countplot( x = extroverts['POSTURE'], ax=ax[1], order = introverts['POSTURE'].value_counts().index)\n",
        "ax[1].set_title(\"extrovert\")\n",
        "ax[0].set_title(\"introvert\")\n",
        "\n",
        "fig.show()"
      ],
      "metadata": {
        "colab": {
          "base_uri": "https://localhost:8080/",
          "height": 295
        },
        "id": "7delm1a3mZdV",
        "outputId": "48da3345-3b53-4f97-e7d2-e630d2a8ef83"
      },
      "execution_count": 8,
      "outputs": [
        {
          "output_type": "display_data",
          "data": {
            "text/plain": [
              "<Figure size 432x288 with 2 Axes>"
            ],
            "image/png": "[encoded data removed]"
          },
          "metadata": {
            "needs_background": "light"
          }
        }
      ]
    },
    {
      "cell_type": "code",
      "source": [
        "fig, ax =plt.subplots(1,2)\n",
        "sns.countplot( x = introverts['ACTIVITY LEVEL'], ax=ax[0],  order = introverts['ACTIVITY LEVEL'].value_counts().index)\n",
        "sns.countplot( x = extroverts['ACTIVITY LEVEL'], ax=ax[1], order = introverts['ACTIVITY LEVEL'].value_counts().index)\n",
        "ax[1].set_title(\"extrovert\")\n",
        "ax[0].set_title(\"introvert\")\n",
        "fig.show()"
      ],
      "metadata": {
        "colab": {
          "base_uri": "https://localhost:8080/",
          "height": 295
        },
        "id": "ajegbpnfmdBP",
        "outputId": "fbc25f5c-6918-42eb-dc69-263f686cc383"
      },
      "execution_count": 9,
      "outputs": [
        {
          "output_type": "display_data",
          "data": {
            "text/plain": [
              "<Figure size 432x288 with 2 Axes>"
            ],
            "image/png": "[encoded data removed]"
          },
          "metadata": {
            "needs_background": "light"
          }
        }
      ]
    },
    {
      "cell_type": "code",
      "source": [
        "sns.boxplot(x = df.AGE)"
      ],
      "metadata": {
        "colab": {
          "base_uri": "https://localhost:8080/",
          "height": 296
        },
        "id": "k2gHEnQ4mdjn",
        "outputId": "af6fcc4f-3965-4921-f6ec-21df34e77191"
      },
      "execution_count": 10,
      "outputs": [
        {
          "output_type": "execute_result",
          "data": {
            "text/plain": [
              "<matplotlib.axes._subplots.AxesSubplot at 0x7f17f3d22ac0>"
            ]
          },
          "metadata": {},
          "execution_count": 10
        },
        {
          "output_type": "display_data",
          "data": {
            "text/plain": [
              "<Figure size 432x288 with 1 Axes>"
            ],
            "image/png": "[encoded data removed]"
          },
          "metadata": {
            "needs_background": "light"
          }
        }
      ]
    },
    {
      "cell_type": "code",
      "source": [
        "sns.countplot(x = df.SEX)"
      ],
      "metadata": {
        "colab": {
          "base_uri": "https://localhost:8080/",
          "height": 296
        },
        "id": "JClH6fI2mglS",
        "outputId": "920e384c-f86b-4775-8720-a08719a2e64d"
      },
      "execution_count": 11,
      "outputs": [
        {
          "output_type": "execute_result",
          "data": {
            "text/plain": [
              "<matplotlib.axes._subplots.AxesSubplot at 0x7f17f3cea190>"
            ]
          },
          "metadata": {},
          "execution_count": 11
        },
        {
          "output_type": "display_data",
          "data": {
            "text/plain": [
              "<Figure size 432x288 with 1 Axes>"
            ],
            "image/png": "[encoded data removed]"
          },
          "metadata": {
            "needs_background": "light"
          }
        }
      ]
    },
    {
      "cell_type": "code",
      "source": [
        "sns.boxplot(x = df[\"ACTIVITY LEVEL\"], y = df.WEIGHT)"
      ],
      "metadata": {
        "colab": {
          "base_uri": "https://localhost:8080/",
          "height": 296
        },
        "id": "oYM27OKRmiWE",
        "outputId": "9fdd6b91-47d1-465f-9b37-cb6fb4c92464"
      },
      "execution_count": 12,
      "outputs": [
        {
          "output_type": "execute_result",
          "data": {
            "text/plain": [
              "<matplotlib.axes._subplots.AxesSubplot at 0x7f17f3cea040>"
            ]
          },
          "metadata": {},
          "execution_count": 12
        },
        {
          "output_type": "display_data",
          "data": {
            "text/plain": [
              "<Figure size 432x288 with 1 Axes>"
            ],
            "image/png": "[encoded data removed]"
          },
          "metadata": {
            "needs_background": "light"
          }
        }
      ]
    },
    {
      "cell_type": "code",
      "source": [
        "sns.boxplot(x = df[\"MBTI\"], y = df.WEIGHT)"
      ],
      "metadata": {
        "colab": {
          "base_uri": "https://localhost:8080/",
          "height": 296
        },
        "id": "7iFmVSKcmj3y",
        "outputId": "1b3fcf96-3ed9-421c-86d7-4dbf59161df4"
      },
      "execution_count": 13,
      "outputs": [
        {
          "output_type": "execute_result",
          "data": {
            "text/plain": [
              "<matplotlib.axes._subplots.AxesSubplot at 0x7f17f3d85070>"
            ]
          },
          "metadata": {},
          "execution_count": 13
        },
        {
          "output_type": "display_data",
          "data": {
            "text/plain": [
              "<Figure size 432x288 with 1 Axes>"
            ],
            "image/png": "[encoded data removed]"
          },
          "metadata": {
            "needs_background": "light"
          }
        }
      ]
    },
    {
      "cell_type": "code",
      "source": [
        "plt.title(\"Ranked by most extrovert\")\n",
        "df.groupby(\"MBTI\").mean().sort_values(\"E\").E.plot.bar()"
      ],
      "metadata": {
        "colab": {
          "base_uri": "https://localhost:8080/",
          "height": 328
        },
        "id": "Zl3OeL71mkYU",
        "outputId": "56b2580d-1cd3-4c02-8e1c-f474132597a3"
      },
      "execution_count": 14,
      "outputs": [
        {
          "output_type": "execute_result",
          "data": {
            "text/plain": [
              "<matplotlib.axes._subplots.AxesSubplot at 0x7f17f3b16730>"
            ]
          },
          "metadata": {},
          "execution_count": 14
        },
        {
          "output_type": "display_data",
          "data": {
            "text/plain": [
              "<Figure size 432x288 with 1 Axes>"
            ],
            "image/png": "[encoded data removed]"
          },
          "metadata": {
            "needs_background": "light"
          }
        }
      ]
    },
    {
      "cell_type": "code",
      "source": [
        "plt.title(\"Ranked: MBTI with good posture\")\n",
        "df[df[\"POSTURE\"] == \"A\"].MBTI.value_counts().plot.bar()"
      ],
      "metadata": {
        "colab": {
          "base_uri": "https://localhost:8080/",
          "height": 314
        },
        "id": "b2bKGuMLmngP",
        "outputId": "f598c3e3-5a5f-4d46-8152-9e20d10a0310"
      },
      "execution_count": 15,
      "outputs": [
        {
          "output_type": "execute_result",
          "data": {
            "text/plain": [
              "<matplotlib.axes._subplots.AxesSubplot at 0x7f17f3b165b0>"
            ]
          },
          "metadata": {},
          "execution_count": 15
        },
        {
          "output_type": "display_data",
          "data": {
            "text/plain": [
              "<Figure size 432x288 with 1 Axes>"
            ],
            "image/png": "[encoded data removed]"
          },
          "metadata": {
            "needs_background": "light"
          }
        }
      ]
    },
    {
      "cell_type": "code",
      "source": [
        "sns.scatterplot(data = df, x = 'WEIGHT', y = 'HEIGHT',  hue  = 'POSTURE')"
      ],
      "metadata": {
        "colab": {
          "base_uri": "https://localhost:8080/",
          "height": 296
        },
        "id": "s8VJWMKWmphi",
        "outputId": "c71e890a-0aad-4ce9-c78c-9f5213c96ac4"
      },
      "execution_count": 16,
      "outputs": [
        {
          "output_type": "execute_result",
          "data": {
            "text/plain": [
              "<matplotlib.axes._subplots.AxesSubplot at 0x7f17f3b71cd0>"
            ]
          },
          "metadata": {},
          "execution_count": 16
        },
        {
          "output_type": "display_data",
          "data": {
            "text/plain": [
              "<Figure size 432x288 with 1 Axes>"
            ],
            "image/png": "[encoded data removed]"
          },
          "metadata": {
            "needs_background": "light"
          }
        }
      ]
    },
    {
      "cell_type": "code",
      "source": [
        "sns.scatterplot(data = df, x = 'AGE', y = 'WEIGHT',  hue  = 'POSTURE')"
      ],
      "metadata": {
        "colab": {
          "base_uri": "https://localhost:8080/",
          "height": 296
        },
        "id": "V4sTbNnHmrR5",
        "outputId": "b5cc71f2-73f6-4084-9842-4e06d8b98155"
      },
      "execution_count": 17,
      "outputs": [
        {
          "output_type": "execute_result",
          "data": {
            "text/plain": [
              "<matplotlib.axes._subplots.AxesSubplot at 0x7f17f3951af0>"
            ]
          },
          "metadata": {},
          "execution_count": 17
        },
        {
          "output_type": "display_data",
          "data": {
            "text/plain": [
              "<Figure size 432x288 with 1 Axes>"
            ],
            "image/png": "[encoded data removed]"
          },
          "metadata": {
            "needs_background": "light"
          }
        }
      ]
    },
    {
      "cell_type": "code",
      "source": [
        "sns.scatterplot(data = df, x = 'AGE', y = 'HEIGHT',  hue  = 'POSTURE')"
      ],
      "metadata": {
        "colab": {
          "base_uri": "https://localhost:8080/",
          "height": 296
        },
        "id": "OaBQmg-PmtDC",
        "outputId": "871886d2-72b8-4419-f8b2-1690d01b4cb2"
      },
      "execution_count": 18,
      "outputs": [
        {
          "output_type": "execute_result",
          "data": {
            "text/plain": [
              "<matplotlib.axes._subplots.AxesSubplot at 0x7f17f3939f40>"
            ]
          },
          "metadata": {},
          "execution_count": 18
        },
        {
          "output_type": "display_data",
          "data": {
            "text/plain": [
              "<Figure size 432x288 with 1 Axes>"
            ],
            "image/png": "[encoded data removed]"
          },
          "metadata": {
            "needs_background": "light"
          }
        }
      ]
    },
    {
      "cell_type": "code",
      "source": [
        "from sklearn.preprocessing import LabelEncoder\n",
        "le = LabelEncoder()\n",
        "df.SEX  = le.fit_transform(df.SEX )\n",
        "df.MBTI = le.fit_transform(df.MBTI)"
      ],
      "metadata": {
        "id": "06BFE5h5nqOQ"
      },
      "execution_count": 19,
      "outputs": []
    },
    {
      "cell_type": "code",
      "source": [
        "df['ACTIVITY LEVEL'] = df['ACTIVITY LEVEL'].replace({'Low' : 0, 'Moderate' : 1, 'High': 2})\n",
        "df.POSTURE = df.POSTURE.replace({'A' : 0, 'B' : 1, 'C': 2, 'D':3})"
      ],
      "metadata": {
        "id": "7zm_81ZHnrBs"
      },
      "execution_count": 20,
      "outputs": []
    },
    {
      "cell_type": "code",
      "source": [
        "df.head()"
      ],
      "metadata": {
        "colab": {
          "base_uri": "https://localhost:8080/",
          "height": 238
        },
        "id": "351ZolARnsrK",
        "outputId": "e022cdf0-6280-4ed2-9956-1707f9f5de9f"
      },
      "execution_count": 21,
      "outputs": [
        {
          "output_type": "execute_result",
          "data": {
            "text/plain": [
              "      AGE  HEIGHT  WEIGHT  SEX  ACTIVITY LEVEL  PAIN 1  PAIN 2  PAIN 3  \\\n",
              "S No                                                                     \n",
              "1      53      62     125    0               0     0.0     0.0     0.0   \n",
              "2      52      69     157    1               2     7.0     8.0     5.0   \n",
              "3      30      69     200    1               2     0.0     0.0     0.0   \n",
              "4      51      66     175    1               1     9.5     9.5     9.5   \n",
              "5      45      63     199    0               1     4.0     5.0     2.0   \n",
              "\n",
              "      PAIN 4  MBTI   E   I   S   N   T   F   J   P  POSTURE  \n",
              "S No                                                         \n",
              "1        0.0     4  18   3  17   9   9  13  18   4        0  \n",
              "2        3.0    13   6  15  14  12  21   3  13   9        1  \n",
              "3        0.0     6  15   6  16  10  15   9  12  10        0  \n",
              "4        1.5    13   6  15  21   5  13  11  19   3        3  \n",
              "5        2.0     0  14   7  20   6   9  15  16   6        0  "
            ],
            "text/html": [
              "\n",
              "  <div id=\"df-0edeb916-b38c-449c-bd8d-5a2dad707e64\">\n",
              "    <div class=\"colab-df-container\">\n",
              "      <div>\n",
              "<style scoped>\n",
              "    .dataframe tbody tr th:only-of-type {\n",
              "        vertical-align: middle;\n",
              "    }\n",
              "\n",
              "    .dataframe tbody tr th {\n",
              "        vertical-align: top;\n",
              "    }\n",
              "\n",
              "    .dataframe thead th {\n",
              "        text-align: right;\n",
              "    }\n",
              "</style>\n",
              "<table border=\"1\" class=\"dataframe\">\n",
              "  <thead>\n",
              "    <tr style=\"text-align: right;\">\n",
              "      <th></th>\n",
              "      <th>AGE</th>\n",
              "      <th>HEIGHT</th>\n",
              "      <th>WEIGHT</th>\n",
              "      <th>SEX</th>\n",
              "      <th>ACTIVITY LEVEL</th>\n",
              "      <th>PAIN 1</th>\n",
              "      <th>PAIN 2</th>\n",
              "      <th>PAIN 3</th>\n",
              "      <th>PAIN 4</th>\n",
              "      <th>MBTI</th>\n",
              "      <th>E</th>\n",
              "      <th>I</th>\n",
              "      <th>S</th>\n",
              "      <th>N</th>\n",
              "      <th>T</th>\n",
              "      <th>F</th>\n",
              "      <th>J</th>\n",
              "      <th>P</th>\n",
              "      <th>POSTURE</th>\n",
              "    </tr>\n",
              "    <tr>\n",
              "      <th>S No</th>\n",
              "      <th></th>\n",
              "      <th></th>\n",
              "      <th></th>\n",
              "      <th></th>\n",
              "      <th></th>\n",
              "      <th></th>\n",
              "      <th></th>\n",
              "      <th></th>\n",
              "      <th></th>\n",
              "      <th></th>\n",
              "      <th></th>\n",
              "      <th></th>\n",
              "      <th></th>\n",
              "      <th></th>\n",
              "      <th></th>\n",
              "      <th></th>\n",
              "      <th></th>\n",
              "      <th></th>\n",
              "      <th></th>\n",
              "    </tr>\n",
              "  </thead>\n",
              "  <tbody>\n",
              "    <tr>\n",
              "      <th>1</th>\n",
              "      <td>53</td>\n",
              "      <td>62</td>\n",
              "      <td>125</td>\n",
              "      <td>0</td>\n",
              "      <td>0</td>\n",
              "      <td>0.0</td>\n",
              "      <td>0.0</td>\n",
              "      <td>0.0</td>\n",
              "      <td>0.0</td>\n",
              "      <td>4</td>\n",
              "      <td>18</td>\n",
              "      <td>3</td>\n",
              "      <td>17</td>\n",
              "      <td>9</td>\n",
              "      <td>9</td>\n",
              "      <td>13</td>\n",
              "      <td>18</td>\n",
              "      <td>4</td>\n",
              "      <td>0</td>\n",
              "    </tr>\n",
              "    <tr>\n",
              "      <th>2</th>\n",
              "      <td>52</td>\n",
              "      <td>69</td>\n",
              "      <td>157</td>\n",
              "      <td>1</td>\n",
              "      <td>2</td>\n",
              "      <td>7.0</td>\n",
              "      <td>8.0</td>\n",
              "      <td>5.0</td>\n",
              "      <td>3.0</td>\n",
              "      <td>13</td>\n",
              "      <td>6</td>\n",
              "      <td>15</td>\n",
              "      <td>14</td>\n",
              "      <td>12</td>\n",
              "      <td>21</td>\n",
              "      <td>3</td>\n",
              "      <td>13</td>\n",
              "      <td>9</td>\n",
              "      <td>1</td>\n",
              "    </tr>\n",
              "    <tr>\n",
              "      <th>3</th>\n",
              "      <td>30</td>\n",
              "      <td>69</td>\n",
              "      <td>200</td>\n",
              "      <td>1</td>\n",
              "      <td>2</td>\n",
              "      <td>0.0</td>\n",
              "      <td>0.0</td>\n",
              "      <td>0.0</td>\n",
              "      <td>0.0</td>\n",
              "      <td>6</td>\n",
              "      <td>15</td>\n",
              "      <td>6</td>\n",
              "      <td>16</td>\n",
              "      <td>10</td>\n",
              "      <td>15</td>\n",
              "      <td>9</td>\n",
              "      <td>12</td>\n",
              "      <td>10</td>\n",
              "      <td>0</td>\n",
              "    </tr>\n",
              "    <tr>\n",
              "      <th>4</th>\n",
              "      <td>51</td>\n",
              "      <td>66</td>\n",
              "      <td>175</td>\n",
              "      <td>1</td>\n",
              "      <td>1</td>\n",
              "      <td>9.5</td>\n",
              "      <td>9.5</td>\n",
              "      <td>9.5</td>\n",
              "      <td>1.5</td>\n",
              "      <td>13</td>\n",
              "      <td>6</td>\n",
              "      <td>15</td>\n",
              "      <td>21</td>\n",
              "      <td>5</td>\n",
              "      <td>13</td>\n",
              "      <td>11</td>\n",
              "      <td>19</td>\n",
              "      <td>3</td>\n",
              "      <td>3</td>\n",
              "    </tr>\n",
              "    <tr>\n",
              "      <th>5</th>\n",
              "      <td>45</td>\n",
              "      <td>63</td>\n",
              "      <td>199</td>\n",
              "      <td>0</td>\n",
              "      <td>1</td>\n",
              "      <td>4.0</td>\n",
              "      <td>5.0</td>\n",
              "      <td>2.0</td>\n",
              "      <td>2.0</td>\n",
              "      <td>0</td>\n",
              "      <td>14</td>\n",
              "      <td>7</td>\n",
              "      <td>20</td>\n",
              "      <td>6</td>\n",
              "      <td>9</td>\n",
              "      <td>15</td>\n",
              "      <td>16</td>\n",
              "      <td>6</td>\n",
              "      <td>0</td>\n",
              "    </tr>\n",
              "  </tbody>\n",
              "</table>\n",
              "</div>\n",
              "      <button class=\"colab-df-convert\" onclick=\"convertToInteractive('df-0edeb916-b38c-449c-bd8d-5a2dad707e64')\"\n",
              "              title=\"Convert this dataframe to an interactive table.\"\n",
              "              style=\"display:none;\">\n",
              "        \n",
              "  <svg xmlns=\"http://www.w3.org/2000/svg\" height=\"24px\"viewBox=\"0 0 24 24\"\n",
              "       width=\"24px\">\n",
              "    <path d=\"M0 0h24v24H0V0z\" fill=\"none\"/>\n",
              "    <path d=\"M18.56 5.44l.94 2.06.94-2.06 2.06-.94-2.06-.94-.94-2.06-.94 2.06-2.06.94zm-11 1L8.5 8.5l.94-2.06 2.06-.94-2.06-.94L8.5 2.5l-.94 2.06-2.06.94zm10 10l.94 2.06.94-2.06 2.06-.94-2.06-.94-.94-2.06-.94 2.06-2.06.94z\"/><path d=\"M17.41 7.96l-1.37-1.37c-.4-.4-.92-.59-1.43-.59-.52 0-1.04.2-1.43.59L10.3 9.45l-7.72 7.72c-.78.78-.78 2.05 0 2.83L4 21.41c.39.39.9.59 1.41.59.51 0 1.02-.2 1.41-.59l7.78-7.78 2.81-2.81c.8-.78.8-2.07 0-2.86zM5.41 20L4 18.59l7.72-7.72 1.47 1.35L5.41 20z\"/>\n",
              "  </svg>\n",
              "      </button>\n",
              "      \n",
              "  <style>\n",
              "    .colab-df-container {\n",
              "      display:flex;\n",
              "      flex-wrap:wrap;\n",
              "      gap: 12px;\n",
              "    }\n",
              "\n",
              "    .colab-df-convert {\n",
              "      background-color: #E8F0FE;\n",
              "      border: none;\n",
              "      border-radius: 50%;\n",
              "      cursor: pointer;\n",
              "      display: none;\n",
              "      fill: #1967D2;\n",
              "      height: 32px;\n",
              "      padding: 0 0 0 0;\n",
              "      width: 32px;\n",
              "    }\n",
              "\n",
              "    .colab-df-convert:hover {\n",
              "      background-color: #E2EBFA;\n",
              "      box-shadow: 0px 1px 2px rgba(60, 64, 67, 0.3), 0px 1px 3px 1px rgba(60, 64, 67, 0.15);\n",
              "      fill: #174EA6;\n",
              "    }\n",
              "\n",
              "    [theme=dark] .colab-df-convert {\n",
              "      background-color: #3B4455;\n",
              "      fill: #D2E3FC;\n",
              "    }\n",
              "\n",
              "    [theme=dark] .colab-df-convert:hover {\n",
              "      background-color: #434B5C;\n",
              "      box-shadow: 0px 1px 3px 1px rgba(0, 0, 0, 0.15);\n",
              "      filter: drop-shadow(0px 1px 2px rgba(0, 0, 0, 0.3));\n",
              "      fill: #FFFFFF;\n",
              "    }\n",
              "  </style>\n",
              "\n",
              "      <script>\n",
              "        const buttonEl =\n",
              "          document.querySelector('#df-0edeb916-b38c-449c-bd8d-5a2dad707e64 button.colab-df-convert');\n",
              "        buttonEl.style.display =\n",
              "          google.colab.kernel.accessAllowed ? 'block' : 'none';\n",
              "\n",
              "        async function convertToInteractive(key) {\n",
              "          const element = document.querySelector('#df-0edeb916-b38c-449c-bd8d-5a2dad707e64');\n",
              "          const dataTable =\n",
              "            await google.colab.kernel.invokeFunction('convertToInteractive',\n",
              "                                                     [key], {});\n",
              "          if (!dataTable) return;\n",
              "\n",
              "          const docLinkHtml = 'Like what you see? Visit the ' +\n",
              "            '<a target=\"_blank\" href=https://colab.research.google.com/notebooks/data_table.ipynb>data table notebook</a>'\n",
              "            + ' to learn more about interactive tables.';\n",
              "          element.innerHTML = '';\n",
              "          dataTable['output_type'] = 'display_data';\n",
              "          await google.colab.output.renderOutput(dataTable, element);\n",
              "          const docLink = document.createElement('div');\n",
              "          docLink.innerHTML = docLinkHtml;\n",
              "          element.appendChild(docLink);\n",
              "        }\n",
              "      </script>\n",
              "    </div>\n",
              "  </div>\n",
              "  "
            ]
          },
          "metadata": {},
          "execution_count": 21
        }
      ]
    },
    {
      "cell_type": "code",
      "source": [
        "from sklearn.model_selection import train_test_split\n",
        "from sklearn.metrics import accuracy_score,confusion_matrix,ConfusionMatrixDisplay\n",
        "from sklearn.neighbors import KNeighborsRegressor\n",
        "import xgboost as xgb"
      ],
      "metadata": {
        "id": "hdjOS0l9nv-9"
      },
      "execution_count": 22,
      "outputs": []
    },
    {
      "cell_type": "markdown",
      "source": [
        "#XGBOOST"
      ],
      "metadata": {
        "id": "Y5EyZYH6ny8Y"
      }
    },
    {
      "cell_type": "code",
      "source": [
        "x,y=df.drop(\"POSTURE\",axis=1),df[[\"POSTURE\"]] \n",
        "\n",
        "x_train,x_test,y_train,y_test=train_test_split(x,y,test_size=0.2,random_state=42)"
      ],
      "metadata": {
        "id": "dkuujGjZn1e0"
      },
      "execution_count": 23,
      "outputs": []
    },
    {
      "cell_type": "code",
      "source": [
        "xgb_model = xgb.XGBClassifier(objective=\"multi:softprob\", random_state=42)\n",
        "xgb_model.fit(x_train, y_train)\n",
        "\n",
        "y_pred = xgb_model.predict(x_test)\n",
        "\n",
        "print(confusion_matrix(y_test, y_pred))"
      ],
      "metadata": {
        "colab": {
          "base_uri": "https://localhost:8080/"
        },
        "id": "8viEUSwrn4oD",
        "outputId": "2b094003-3e7e-4ab2-e1ae-f87400d13360"
      },
      "execution_count": 24,
      "outputs": [
        {
          "output_type": "stream",
          "name": "stderr",
          "text": [
            "/usr/local/lib/python3.8/dist-packages/sklearn/preprocessing/_label.py:98: DataConversionWarning: A column-vector y was passed when a 1d array was expected. Please change the shape of y to (n_samples, ), for example using ravel().\n",
            "  y = column_or_1d(y, warn=True)\n",
            "/usr/local/lib/python3.8/dist-packages/sklearn/preprocessing/_label.py:133: DataConversionWarning: A column-vector y was passed when a 1d array was expected. Please change the shape of y to (n_samples, ), for example using ravel().\n",
            "  y = column_or_1d(y, warn=True)\n"
          ]
        },
        {
          "output_type": "stream",
          "name": "stdout",
          "text": [
            "[[2 4 0 1]\n",
            " [2 4 1 0]\n",
            " [0 2 1 1]\n",
            " [1 1 0 0]]\n"
          ]
        }
      ]
    },
    {
      "cell_type": "code",
      "source": [
        "ConfusionMatrixDisplay(confusion_matrix(y_test, y_pred)).plot()"
      ],
      "metadata": {
        "colab": {
          "base_uri": "https://localhost:8080/",
          "height": 300
        },
        "id": "NhZFTQ03n5Ol",
        "outputId": "cd19c7e8-0bca-4fc6-ea2b-d0f666114635"
      },
      "execution_count": 25,
      "outputs": [
        {
          "output_type": "execute_result",
          "data": {
            "text/plain": [
              "<sklearn.metrics._plot.confusion_matrix.ConfusionMatrixDisplay at 0x7f17f2f495b0>"
            ]
          },
          "metadata": {},
          "execution_count": 25
        },
        {
          "output_type": "display_data",
          "data": {
            "text/plain": [
              "<Figure size 432x288 with 2 Axes>"
            ],
            "image/png": "[encoded data removed]"
          },
          "metadata": {
            "needs_background": "light"
          }
        }
      ]
    },
    {
      "cell_type": "code",
      "source": [
        "accuracy_score(y_test, y_pred)"
      ],
      "metadata": {
        "colab": {
          "base_uri": "https://localhost:8080/"
        },
        "id": "qv8d9pzbn7Y2",
        "outputId": "4929c6ca-10c8-4b13-94bd-11c85d5995cd"
      },
      "execution_count": 26,
      "outputs": [
        {
          "output_type": "execute_result",
          "data": {
            "text/plain": [
              "0.35"
            ]
          },
          "metadata": {},
          "execution_count": 26
        }
      ]
    },
    {
      "cell_type": "markdown",
      "source": [
        "#Decision Tree"
      ],
      "metadata": {
        "id": "t7SVPWjQn_eh"
      }
    },
    {
      "cell_type": "code",
      "source": [
        "from sklearn.tree import DecisionTreeClassifier\n",
        "Dtree = DecisionTreeClassifier()\n",
        "Dtree.fit(x_train, y_train)\n",
        "y_pred = Dtree.predict(x_test)\n",
        "\n",
        "print(confusion_matrix(y_test, y_pred))"
      ],
      "metadata": {
        "colab": {
          "base_uri": "https://localhost:8080/"
        },
        "id": "BsWEWEoZoBLq",
        "outputId": "ed7da12b-8326-483c-eb18-f32fc7a0e63a"
      },
      "execution_count": 27,
      "outputs": [
        {
          "output_type": "stream",
          "name": "stdout",
          "text": [
            "[[2 2 1 2]\n",
            " [0 5 0 2]\n",
            " [0 2 1 1]\n",
            " [1 1 0 0]]\n"
          ]
        }
      ]
    },
    {
      "cell_type": "code",
      "source": [
        "ConfusionMatrixDisplay(confusion_matrix(y_test, y_pred)).plot()"
      ],
      "metadata": {
        "colab": {
          "base_uri": "https://localhost:8080/",
          "height": 300
        },
        "id": "BMRDI3tdoD3J",
        "outputId": "fc4fd49d-f702-4622-e0d2-ee0cb02ea621"
      },
      "execution_count": 28,
      "outputs": [
        {
          "output_type": "execute_result",
          "data": {
            "text/plain": [
              "<sklearn.metrics._plot.confusion_matrix.ConfusionMatrixDisplay at 0x7f17f38a5a00>"
            ]
          },
          "metadata": {},
          "execution_count": 28
        },
        {
          "output_type": "display_data",
          "data": {
            "text/plain": [
              "<Figure size 432x288 with 2 Axes>"
            ],
            "image/png": "[encoded data removed]"
          },
          "metadata": {
            "needs_background": "light"
          }
        }
      ]
    },
    {
      "cell_type": "code",
      "source": [
        "accuracy_score(y_test, y_pred)"
      ],
      "metadata": {
        "colab": {
          "base_uri": "https://localhost:8080/"
        },
        "id": "YHDb6YahoFsO",
        "outputId": "fa9c2688-74aa-49d2-ba35-8216669f41fb"
      },
      "execution_count": 29,
      "outputs": [
        {
          "output_type": "execute_result",
          "data": {
            "text/plain": [
              "0.4"
            ]
          },
          "metadata": {},
          "execution_count": 29
        }
      ]
    },
    {
      "cell_type": "markdown",
      "source": [
        "#k-nearest neighbors\n"
      ],
      "metadata": {
        "id": "dRcFWAuHoJER"
      }
    },
    {
      "cell_type": "code",
      "source": [
        "from sklearn.preprocessing import StandardScaler\n",
        "from sklearn.neighbors import KNeighborsClassifier"
      ],
      "metadata": {
        "id": "BqmWpZ-foVPF"
      },
      "execution_count": 30,
      "outputs": []
    },
    {
      "cell_type": "code",
      "source": [
        "Scaler = StandardScaler()\n",
        "train_scale = pd.DataFrame(Scaler.fit_transform(x_train), columns = x_train.columns)"
      ],
      "metadata": {
        "id": "e-RLO-RSoXt0"
      },
      "execution_count": 31,
      "outputs": []
    },
    {
      "cell_type": "code",
      "source": [
        "scaled_model = pd.DataFrame(Scaler.fit_transform(df))\n",
        "scaled_model"
      ],
      "metadata": {
        "colab": {
          "base_uri": "https://localhost:8080/",
          "height": 488
        },
        "id": "5_IsMxdgoYRl",
        "outputId": "27dcd857-c068-408f-d457-3ab4f7ff18b5"
      },
      "execution_count": 32,
      "outputs": [
        {
          "output_type": "execute_result",
          "data": {
            "text/plain": [
              "          0         1         2         3         4         5         6   \\\n",
              "0   0.547913 -1.003699 -0.956237 -0.989743 -0.517857 -0.835831 -1.180447   \n",
              "1   0.487994  0.878929 -0.067566  1.010363  2.946429  1.899250  1.339572   \n",
              "2  -0.830208  0.878929  1.126584  1.010363  2.946429 -0.835831 -1.180447   \n",
              "3   0.428076  0.072089  0.432311  1.010363  1.214286  2.876064  1.812075   \n",
              "4   0.068566 -0.734752  1.098814 -0.989743  1.214286  0.727072  0.394565   \n",
              "..       ...       ...       ...       ...       ...       ...       ...   \n",
              "92 -1.669064 -2.079486 -1.650511  1.010363  1.214286 -0.835831 -1.180447   \n",
              "93  0.068566 -1.003699 -0.706298 -0.989743  1.214286 -0.835831  0.079562   \n",
              "94 -0.051270  0.878929  0.793333  1.010363  1.214286 -0.054379 -1.180447   \n",
              "95 -0.950045  0.341036  0.571165 -0.989743 -0.517857 -0.835831 -1.180447   \n",
              "96 -0.051270  0.878929  0.793333  1.010363  1.214286  0.727072 -1.180447   \n",
              "\n",
              "          7         8         9         10        11        12        13  \\\n",
              "0  -0.754816 -0.817641 -0.563189  0.933351 -0.933122  0.388019 -0.433588   \n",
              "1   1.187283  0.151538  1.641582 -1.176203  1.184138 -0.235813  0.203655   \n",
              "2  -0.754816 -0.817641 -0.073240  0.405962 -0.403807  0.180075 -0.221173   \n",
              "3   2.935172 -0.333051  1.641582 -1.176203  1.184138  1.219795 -1.283244   \n",
              "4   0.022024 -0.171521 -1.543087  0.230166 -0.227369  1.011851 -1.070830   \n",
              "..       ...       ...       ...       ...       ...       ...       ...   \n",
              "92 -0.754816  0.151538  0.171735  1.109147 -1.109561  1.427739 -1.495658   \n",
              "93 -0.754816 -0.817641 -0.563189 -0.297222  0.301946  0.388019 -0.433588   \n",
              "94 -0.754816 -0.817641 -1.298112 -0.121426  0.125508 -1.275532  1.265725   \n",
              "95 -0.754816 -0.817641 -0.563189 -0.297222  0.301946  1.427739  0.628483   \n",
              "96 -0.754816 -0.817641 -1.298112 -0.121426  0.125508 -1.275532  1.265725   \n",
              "\n",
              "          14        15        16        17        18  \n",
              "0  -0.283704 -0.084118  1.347962 -1.351831 -1.316004  \n",
              "1   1.978158 -1.981663  0.470430 -0.471780 -0.363374  \n",
              "2   0.847227 -0.843136  0.294923 -0.295770 -1.316004  \n",
              "3   0.470250 -0.463627  1.523469 -1.527841  1.541886  \n",
              "4  -0.283704  0.295391  0.996949 -0.999811 -1.316004  \n",
              "..       ...       ...       ...       ...       ...  \n",
              "92  1.601181 -1.602154 -1.460141  1.464332 -0.363374  \n",
              "93 -0.849170  0.864654  0.470430 -0.471780 -0.363374  \n",
              "94 -0.849170  0.864654 -1.460141  1.464332 -1.316004  \n",
              "95 -0.472193  0.485145  0.645936 -0.647790 -0.363374  \n",
              "96 -0.849170  0.864654 -1.460141  1.464332 -1.316004  \n",
              "\n",
              "[97 rows x 19 columns]"
            ],
            "text/html": [
              "\n",
              "  <div id=\"df-2300e37e-d5c7-4d14-8f09-280406ae03bd\">\n",
              "    <div class=\"colab-df-container\">\n",
              "      <div>\n",
              "<style scoped>\n",
              "    .dataframe tbody tr th:only-of-type {\n",
              "        vertical-align: middle;\n",
              "    }\n",
              "\n",
              "    .dataframe tbody tr th {\n",
              "        vertical-align: top;\n",
              "    }\n",
              "\n",
              "    .dataframe thead th {\n",
              "        text-align: right;\n",
              "    }\n",
              "</style>\n",
              "<table border=\"1\" class=\"dataframe\">\n",
              "  <thead>\n",
              "    <tr style=\"text-align: right;\">\n",
              "      <th></th>\n",
              "      <th>0</th>\n",
              "      <th>1</th>\n",
              "      <th>2</th>\n",
              "      <th>3</th>\n",
              "      <th>4</th>\n",
              "      <th>5</th>\n",
              "      <th>6</th>\n",
              "      <th>7</th>\n",
              "      <th>8</th>\n",
              "      <th>9</th>\n",
              "      <th>10</th>\n",
              "      <th>11</th>\n",
              "      <th>12</th>\n",
              "      <th>13</th>\n",
              "      <th>14</th>\n",
              "      <th>15</th>\n",
              "      <th>16</th>\n",
              "      <th>17</th>\n",
              "      <th>18</th>\n",
              "    </tr>\n",
              "  </thead>\n",
              "  <tbody>\n",
              "    <tr>\n",
              "      <th>0</th>\n",
              "      <td>0.547913</td>\n",
              "      <td>-1.003699</td>\n",
              "      <td>-0.956237</td>\n",
              "      <td>-0.989743</td>\n",
              "      <td>-0.517857</td>\n",
              "      <td>-0.835831</td>\n",
              "      <td>-1.180447</td>\n",
              "      <td>-0.754816</td>\n",
              "      <td>-0.817641</td>\n",
              "      <td>-0.563189</td>\n",
              "      <td>0.933351</td>\n",
              "      <td>-0.933122</td>\n",
              "      <td>0.388019</td>\n",
              "      <td>-0.433588</td>\n",
              "      <td>-0.283704</td>\n",
              "      <td>-0.084118</td>\n",
              "      <td>1.347962</td>\n",
              "      <td>-1.351831</td>\n",
              "      <td>-1.316004</td>\n",
              "    </tr>\n",
              "    <tr>\n",
              "      <th>1</th>\n",
              "      <td>0.487994</td>\n",
              "      <td>0.878929</td>\n",
              "      <td>-0.067566</td>\n",
              "      <td>1.010363</td>\n",
              "      <td>2.946429</td>\n",
              "      <td>1.899250</td>\n",
              "      <td>1.339572</td>\n",
              "      <td>1.187283</td>\n",
              "      <td>0.151538</td>\n",
              "      <td>1.641582</td>\n",
              "      <td>-1.176203</td>\n",
              "      <td>1.184138</td>\n",
              "      <td>-0.235813</td>\n",
              "      <td>0.203655</td>\n",
              "      <td>1.978158</td>\n",
              "      <td>-1.981663</td>\n",
              "      <td>0.470430</td>\n",
              "      <td>-0.471780</td>\n",
              "      <td>-0.363374</td>\n",
              "    </tr>\n",
              "    <tr>\n",
              "      <th>2</th>\n",
              "      <td>-0.830208</td>\n",
              "      <td>0.878929</td>\n",
              "      <td>1.126584</td>\n",
              "      <td>1.010363</td>\n",
              "      <td>2.946429</td>\n",
              "      <td>-0.835831</td>\n",
              "      <td>-1.180447</td>\n",
              "      <td>-0.754816</td>\n",
              "      <td>-0.817641</td>\n",
              "      <td>-0.073240</td>\n",
              "      <td>0.405962</td>\n",
              "      <td>-0.403807</td>\n",
              "      <td>0.180075</td>\n",
              "      <td>-0.221173</td>\n",
              "      <td>0.847227</td>\n",
              "      <td>-0.843136</td>\n",
              "      <td>0.294923</td>\n",
              "      <td>-0.295770</td>\n",
              "      <td>-1.316004</td>\n",
              "    </tr>\n",
              "    <tr>\n",
              "      <th>3</th>\n",
              "      <td>0.428076</td>\n",
              "      <td>0.072089</td>\n",
              "      <td>0.432311</td>\n",
              "      <td>1.010363</td>\n",
              "      <td>1.214286</td>\n",
              "      <td>2.876064</td>\n",
              "      <td>1.812075</td>\n",
              "      <td>2.935172</td>\n",
              "      <td>-0.333051</td>\n",
              "      <td>1.641582</td>\n",
              "      <td>-1.176203</td>\n",
              "      <td>1.184138</td>\n",
              "      <td>1.219795</td>\n",
              "      <td>-1.283244</td>\n",
              "      <td>0.470250</td>\n",
              "      <td>-0.463627</td>\n",
              "      <td>1.523469</td>\n",
              "      <td>-1.527841</td>\n",
              "      <td>1.541886</td>\n",
              "    </tr>\n",
              "    <tr>\n",
              "      <th>4</th>\n",
              "      <td>0.068566</td>\n",
              "      <td>-0.734752</td>\n",
              "      <td>1.098814</td>\n",
              "      <td>-0.989743</td>\n",
              "      <td>1.214286</td>\n",
              "      <td>0.727072</td>\n",
              "      <td>0.394565</td>\n",
              "      <td>0.022024</td>\n",
              "      <td>-0.171521</td>\n",
              "      <td>-1.543087</td>\n",
              "      <td>0.230166</td>\n",
              "      <td>-0.227369</td>\n",
              "      <td>1.011851</td>\n",
              "      <td>-1.070830</td>\n",
              "      <td>-0.283704</td>\n",
              "      <td>0.295391</td>\n",
              "      <td>0.996949</td>\n",
              "      <td>-0.999811</td>\n",
              "      <td>-1.316004</td>\n",
              "    </tr>\n",
              "    <tr>\n",
              "      <th>...</th>\n",
              "      <td>...</td>\n",
              "      <td>...</td>\n",
              "      <td>...</td>\n",
              "      <td>...</td>\n",
              "      <td>...</td>\n",
              "      <td>...</td>\n",
              "      <td>...</td>\n",
              "      <td>...</td>\n",
              "      <td>...</td>\n",
              "      <td>...</td>\n",
              "      <td>...</td>\n",
              "      <td>...</td>\n",
              "      <td>...</td>\n",
              "      <td>...</td>\n",
              "      <td>...</td>\n",
              "      <td>...</td>\n",
              "      <td>...</td>\n",
              "      <td>...</td>\n",
              "      <td>...</td>\n",
              "    </tr>\n",
              "    <tr>\n",
              "      <th>92</th>\n",
              "      <td>-1.669064</td>\n",
              "      <td>-2.079486</td>\n",
              "      <td>-1.650511</td>\n",
              "      <td>1.010363</td>\n",
              "      <td>1.214286</td>\n",
              "      <td>-0.835831</td>\n",
              "      <td>-1.180447</td>\n",
              "      <td>-0.754816</td>\n",
              "      <td>0.151538</td>\n",
              "      <td>0.171735</td>\n",
              "      <td>1.109147</td>\n",
              "      <td>-1.109561</td>\n",
              "      <td>1.427739</td>\n",
              "      <td>-1.495658</td>\n",
              "      <td>1.601181</td>\n",
              "      <td>-1.602154</td>\n",
              "      <td>-1.460141</td>\n",
              "      <td>1.464332</td>\n",
              "      <td>-0.363374</td>\n",
              "    </tr>\n",
              "    <tr>\n",
              "      <th>93</th>\n",
              "      <td>0.068566</td>\n",
              "      <td>-1.003699</td>\n",
              "      <td>-0.706298</td>\n",
              "      <td>-0.989743</td>\n",
              "      <td>1.214286</td>\n",
              "      <td>-0.835831</td>\n",
              "      <td>0.079562</td>\n",
              "      <td>-0.754816</td>\n",
              "      <td>-0.817641</td>\n",
              "      <td>-0.563189</td>\n",
              "      <td>-0.297222</td>\n",
              "      <td>0.301946</td>\n",
              "      <td>0.388019</td>\n",
              "      <td>-0.433588</td>\n",
              "      <td>-0.849170</td>\n",
              "      <td>0.864654</td>\n",
              "      <td>0.470430</td>\n",
              "      <td>-0.471780</td>\n",
              "      <td>-0.363374</td>\n",
              "    </tr>\n",
              "    <tr>\n",
              "      <th>94</th>\n",
              "      <td>-0.051270</td>\n",
              "      <td>0.878929</td>\n",
              "      <td>0.793333</td>\n",
              "      <td>1.010363</td>\n",
              "      <td>1.214286</td>\n",
              "      <td>-0.054379</td>\n",
              "      <td>-1.180447</td>\n",
              "      <td>-0.754816</td>\n",
              "      <td>-0.817641</td>\n",
              "      <td>-1.298112</td>\n",
              "      <td>-0.121426</td>\n",
              "      <td>0.125508</td>\n",
              "      <td>-1.275532</td>\n",
              "      <td>1.265725</td>\n",
              "      <td>-0.849170</td>\n",
              "      <td>0.864654</td>\n",
              "      <td>-1.460141</td>\n",
              "      <td>1.464332</td>\n",
              "      <td>-1.316004</td>\n",
              "    </tr>\n",
              "    <tr>\n",
              "      <th>95</th>\n",
              "      <td>-0.950045</td>\n",
              "      <td>0.341036</td>\n",
              "      <td>0.571165</td>\n",
              "      <td>-0.989743</td>\n",
              "      <td>-0.517857</td>\n",
              "      <td>-0.835831</td>\n",
              "      <td>-1.180447</td>\n",
              "      <td>-0.754816</td>\n",
              "      <td>-0.817641</td>\n",
              "      <td>-0.563189</td>\n",
              "      <td>-0.297222</td>\n",
              "      <td>0.301946</td>\n",
              "      <td>1.427739</td>\n",
              "      <td>0.628483</td>\n",
              "      <td>-0.472193</td>\n",
              "      <td>0.485145</td>\n",
              "      <td>0.645936</td>\n",
              "      <td>-0.647790</td>\n",
              "      <td>-0.363374</td>\n",
              "    </tr>\n",
              "    <tr>\n",
              "      <th>96</th>\n",
              "      <td>-0.051270</td>\n",
              "      <td>0.878929</td>\n",
              "      <td>0.793333</td>\n",
              "      <td>1.010363</td>\n",
              "      <td>1.214286</td>\n",
              "      <td>0.727072</td>\n",
              "      <td>-1.180447</td>\n",
              "      <td>-0.754816</td>\n",
              "      <td>-0.817641</td>\n",
              "      <td>-1.298112</td>\n",
              "      <td>-0.121426</td>\n",
              "      <td>0.125508</td>\n",
              "      <td>-1.275532</td>\n",
              "      <td>1.265725</td>\n",
              "      <td>-0.849170</td>\n",
              "      <td>0.864654</td>\n",
              "      <td>-1.460141</td>\n",
              "      <td>1.464332</td>\n",
              "      <td>-1.316004</td>\n",
              "    </tr>\n",
              "  </tbody>\n",
              "</table>\n",
              "<p>97 rows × 19 columns</p>\n",
              "</div>\n",
              "      <button class=\"colab-df-convert\" onclick=\"convertToInteractive('df-2300e37e-d5c7-4d14-8f09-280406ae03bd')\"\n",
              "              title=\"Convert this dataframe to an interactive table.\"\n",
              "              style=\"display:none;\">\n",
              "        \n",
              "  <svg xmlns=\"http://www.w3.org/2000/svg\" height=\"24px\"viewBox=\"0 0 24 24\"\n",
              "       width=\"24px\">\n",
              "    <path d=\"M0 0h24v24H0V0z\" fill=\"none\"/>\n",
              "    <path d=\"M18.56 5.44l.94 2.06.94-2.06 2.06-.94-2.06-.94-.94-2.06-.94 2.06-2.06.94zm-11 1L8.5 8.5l.94-2.06 2.06-.94-2.06-.94L8.5 2.5l-.94 2.06-2.06.94zm10 10l.94 2.06.94-2.06 2.06-.94-2.06-.94-.94-2.06-.94 2.06-2.06.94z\"/><path d=\"M17.41 7.96l-1.37-1.37c-.4-.4-.92-.59-1.43-.59-.52 0-1.04.2-1.43.59L10.3 9.45l-7.72 7.72c-.78.78-.78 2.05 0 2.83L4 21.41c.39.39.9.59 1.41.59.51 0 1.02-.2 1.41-.59l7.78-7.78 2.81-2.81c.8-.78.8-2.07 0-2.86zM5.41 20L4 18.59l7.72-7.72 1.47 1.35L5.41 20z\"/>\n",
              "  </svg>\n",
              "      </button>\n",
              "      \n",
              "  <style>\n",
              "    .colab-df-container {\n",
              "      display:flex;\n",
              "      flex-wrap:wrap;\n",
              "      gap: 12px;\n",
              "    }\n",
              "\n",
              "    .colab-df-convert {\n",
              "      background-color: #E8F0FE;\n",
              "      border: none;\n",
              "      border-radius: 50%;\n",
              "      cursor: pointer;\n",
              "      display: none;\n",
              "      fill: #1967D2;\n",
              "      height: 32px;\n",
              "      padding: 0 0 0 0;\n",
              "      width: 32px;\n",
              "    }\n",
              "\n",
              "    .colab-df-convert:hover {\n",
              "      background-color: #E2EBFA;\n",
              "      box-shadow: 0px 1px 2px rgba(60, 64, 67, 0.3), 0px 1px 3px 1px rgba(60, 64, 67, 0.15);\n",
              "      fill: #174EA6;\n",
              "    }\n",
              "\n",
              "    [theme=dark] .colab-df-convert {\n",
              "      background-color: #3B4455;\n",
              "      fill: #D2E3FC;\n",
              "    }\n",
              "\n",
              "    [theme=dark] .colab-df-convert:hover {\n",
              "      background-color: #434B5C;\n",
              "      box-shadow: 0px 1px 3px 1px rgba(0, 0, 0, 0.15);\n",
              "      filter: drop-shadow(0px 1px 2px rgba(0, 0, 0, 0.3));\n",
              "      fill: #FFFFFF;\n",
              "    }\n",
              "  </style>\n",
              "\n",
              "      <script>\n",
              "        const buttonEl =\n",
              "          document.querySelector('#df-2300e37e-d5c7-4d14-8f09-280406ae03bd button.colab-df-convert');\n",
              "        buttonEl.style.display =\n",
              "          google.colab.kernel.accessAllowed ? 'block' : 'none';\n",
              "\n",
              "        async function convertToInteractive(key) {\n",
              "          const element = document.querySelector('#df-2300e37e-d5c7-4d14-8f09-280406ae03bd');\n",
              "          const dataTable =\n",
              "            await google.colab.kernel.invokeFunction('convertToInteractive',\n",
              "                                                     [key], {});\n",
              "          if (!dataTable) return;\n",
              "\n",
              "          const docLinkHtml = 'Like what you see? Visit the ' +\n",
              "            '<a target=\"_blank\" href=https://colab.research.google.com/notebooks/data_table.ipynb>data table notebook</a>'\n",
              "            + ' to learn more about interactive tables.';\n",
              "          element.innerHTML = '';\n",
              "          dataTable['output_type'] = 'display_data';\n",
              "          await google.colab.output.renderOutput(dataTable, element);\n",
              "          const docLink = document.createElement('div');\n",
              "          docLink.innerHTML = docLinkHtml;\n",
              "          element.appendChild(docLink);\n",
              "        }\n",
              "      </script>\n",
              "    </div>\n",
              "  </div>\n",
              "  "
            ]
          },
          "metadata": {},
          "execution_count": 32
        }
      ]
    },
    {
      "cell_type": "code",
      "source": [
        "x,y=scaled_model, df[[\"POSTURE\"]]\n",
        "\n",
        "x_train,x_test,y_train,y_test=train_test_split(x,y,test_size=0.2,random_state=42)"
      ],
      "metadata": {
        "id": "tzDu3HgMoZza"
      },
      "execution_count": 33,
      "outputs": []
    },
    {
      "cell_type": "code",
      "source": [
        "error=[]\n",
        "for i in range(1,25):\n",
        "    knn = KNeighborsClassifier(n_neighbors = i)\n",
        "    knn.fit(x_train, y_train.values.ravel())\n",
        "    y_pred = knn.predict(x_test)\n",
        "    error.append(accuracy_score(y_test, y_pred))"
      ],
      "metadata": {
        "id": "ZpHUxo_tocIf"
      },
      "execution_count": 34,
      "outputs": []
    },
    {
      "cell_type": "code",
      "source": [
        "plt.plot(error)"
      ],
      "metadata": {
        "colab": {
          "base_uri": "https://localhost:8080/",
          "height": 282
        },
        "id": "YiqpNKA3oewi",
        "outputId": "a640d261-7a52-4fbc-9d69-387f37cf32fc"
      },
      "execution_count": 35,
      "outputs": [
        {
          "output_type": "execute_result",
          "data": {
            "text/plain": [
              "[<matplotlib.lines.Line2D at 0x7f17e9946670>]"
            ]
          },
          "metadata": {},
          "execution_count": 35
        },
        {
          "output_type": "display_data",
          "data": {
            "text/plain": [
              "<Figure size 432x288 with 1 Axes>"
            ],
            "image/png": "[encoded data removed]"
          },
          "metadata": {
            "needs_background": "light"
          }
        }
      ]
    },
    {
      "cell_type": "code",
      "source": [
        "error"
      ],
      "metadata": {
        "colab": {
          "base_uri": "https://localhost:8080/"
        },
        "id": "_4u_HXhFoiTL",
        "outputId": "51e14469-ca15-408a-ab3b-74c8d53489d6"
      },
      "execution_count": 36,
      "outputs": [
        {
          "output_type": "execute_result",
          "data": {
            "text/plain": [
              "[0.35,\n",
              " 0.45,\n",
              " 0.35,\n",
              " 0.4,\n",
              " 0.3,\n",
              " 0.45,\n",
              " 0.45,\n",
              " 0.35,\n",
              " 0.4,\n",
              " 0.45,\n",
              " 0.4,\n",
              " 0.4,\n",
              " 0.35,\n",
              " 0.45,\n",
              " 0.45,\n",
              " 0.45,\n",
              " 0.4,\n",
              " 0.4,\n",
              " 0.4,\n",
              " 0.45,\n",
              " 0.4,\n",
              " 0.45,\n",
              " 0.35,\n",
              " 0.35]"
            ]
          },
          "metadata": {},
          "execution_count": 36
        }
      ]
    },
    {
      "cell_type": "code",
      "source": [
        "knn = KNeighborsClassifier(n_neighbors = 4)\n",
        "knn.fit(x_train, y_train.values)\n",
        "y_pred = knn.predict(x_test)"
      ],
      "metadata": {
        "colab": {
          "base_uri": "https://localhost:8080/"
        },
        "id": "GZBSls_xomHa",
        "outputId": "8e518b59-e25a-4884-bb16-fe9d6cef5e30"
      },
      "execution_count": 37,
      "outputs": [
        {
          "output_type": "stream",
          "name": "stderr",
          "text": [
            "/usr/local/lib/python3.8/dist-packages/sklearn/neighbors/_classification.py:198: DataConversionWarning: A column-vector y was passed when a 1d array was expected. Please change the shape of y to (n_samples,), for example using ravel().\n",
            "  return self._fit(X, y)\n"
          ]
        }
      ]
    },
    {
      "cell_type": "code",
      "source": [
        "print(accuracy_score(y_test, y_pred))"
      ],
      "metadata": {
        "colab": {
          "base_uri": "https://localhost:8080/"
        },
        "id": "ZrvHHoy6om5X",
        "outputId": "57462b59-813a-434f-dced-d50f9afaa701"
      },
      "execution_count": 38,
      "outputs": [
        {
          "output_type": "stream",
          "name": "stdout",
          "text": [
            "0.4\n"
          ]
        }
      ]
    },
    {
      "cell_type": "code",
      "source": [
        "ConfusionMatrixDisplay(confusion_matrix(y_test, y_pred)).plot()"
      ],
      "metadata": {
        "colab": {
          "base_uri": "https://localhost:8080/",
          "height": 300
        },
        "id": "fWbbP5z4op4I",
        "outputId": "ca178c9d-6945-4526-e9c3-a0963f5e800b"
      },
      "execution_count": 39,
      "outputs": [
        {
          "output_type": "execute_result",
          "data": {
            "text/plain": [
              "<sklearn.metrics._plot.confusion_matrix.ConfusionMatrixDisplay at 0x7f17e98e8340>"
            ]
          },
          "metadata": {},
          "execution_count": 39
        },
        {
          "output_type": "display_data",
          "data": {
            "text/plain": [
              "<Figure size 432x288 with 2 Axes>"
            ],
            "image/png": "[encoded data removed]"
          },
          "metadata": {
            "needs_background": "light"
          }
        }
      ]
    },
    {
      "cell_type": "markdown",
      "source": [
        "#SVC"
      ],
      "metadata": {
        "id": "KxImxUT1otaW"
      }
    },
    {
      "cell_type": "code",
      "source": [
        "from sklearn import svm\n",
        "\n",
        "x_train,x_test,y_train,y_test=train_test_split(x,y,test_size=0.7,random_state=42)\n",
        "clf = svm.SVC(kernel='linear') # Linear Kernel\n",
        "clf.fit(x_train, y_train)\n",
        "\n",
        "y_pred = clf.predict(x_test)"
      ],
      "metadata": {
        "colab": {
          "base_uri": "https://localhost:8080/"
        },
        "id": "IXwkiUQ4out1",
        "outputId": "a4bf2b51-4dee-4d30-adf8-cbe4ad962589"
      },
      "execution_count": 40,
      "outputs": [
        {
          "output_type": "stream",
          "name": "stderr",
          "text": [
            "/usr/local/lib/python3.8/dist-packages/sklearn/utils/validation.py:993: DataConversionWarning: A column-vector y was passed when a 1d array was expected. Please change the shape of y to (n_samples, ), for example using ravel().\n",
            "  y = column_or_1d(y, warn=True)\n"
          ]
        }
      ]
    },
    {
      "cell_type": "code",
      "source": [
        "print(\"Accuracy:\", accuracy_score(y_test, y_pred))"
      ],
      "metadata": {
        "colab": {
          "base_uri": "https://localhost:8080/"
        },
        "id": "a3xVe281oxqu",
        "outputId": "ff30419d-ac17-4457-b1b3-7034ec4a6ece"
      },
      "execution_count": 41,
      "outputs": [
        {
          "output_type": "stream",
          "name": "stdout",
          "text": [
            "Accuracy: 0.5588235294117647\n"
          ]
        }
      ]
    },
    {
      "cell_type": "code",
      "source": [
        "ConfusionMatrixDisplay(confusion_matrix(y_test, y_pred)).plot()"
      ],
      "metadata": {
        "colab": {
          "base_uri": "https://localhost:8080/",
          "height": 300
        },
        "id": "2HYxZ2Ciozra",
        "outputId": "d121dd01-3909-4f6d-d18d-e8f8137bc36d"
      },
      "execution_count": 42,
      "outputs": [
        {
          "output_type": "execute_result",
          "data": {
            "text/plain": [
              "<sklearn.metrics._plot.confusion_matrix.ConfusionMatrixDisplay at 0x7f17e9b9d550>"
            ]
          },
          "metadata": {},
          "execution_count": 42
        },
        {
          "output_type": "display_data",
          "data": {
            "text/plain": [
              "<Figure size 432x288 with 2 Axes>"
            ],
            "image/png": "[encoded data removed]"
          },
          "metadata": {
            "needs_background": "light"
          }
        }
      ]
    }
  ]
}